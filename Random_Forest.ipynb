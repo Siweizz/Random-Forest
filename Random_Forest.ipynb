{
  "nbformat": 4,
  "nbformat_minor": 0,
  "metadata": {
    "colab": {
      "name": "Random Forest.ipynb",
      "provenance": [],
      "collapsed_sections": []
    },
    "kernelspec": {
      "display_name": "Python 3",
      "language": "python",
      "name": "python3"
    },
    "language_info": {
      "codemirror_mode": {
        "name": "ipython",
        "version": 3
      },
      "file_extension": ".py",
      "mimetype": "text/x-python",
      "name": "python",
      "nbconvert_exporter": "python",
      "pygments_lexer": "ipython3",
      "version": "3.7.4"
    }
  },
  "cells": [
    {
      "cell_type": "markdown",
      "metadata": {
        "id": "eMVuUyGzG5ez"
      },
      "source": [
        "## Random Forest"
      ]
    },
    {
      "cell_type": "markdown",
      "metadata": {
        "id": "nUnwBd9HnkrV"
      },
      "source": [
        "**Random forests**, also known as **Random Decision Forests**, are an ensemble learning method for classification, regression, and other problems that works by training a large number of **decision trees**. For classification tasks, the random forest's output is the class chosen by the majority of trees. The mean or average prediction of the individual trees is returned for regression tasks. In this assignment we will be using Random Forest Classifier to predict the possibility of breast cancer being benign or not.\n",
        "\n",
        "Note that the code for building a decision tree will be similar to your first assignment. Feel free to reuse the code from your first assignment but be ware of the differences."
      ]
    },
    {
      "cell_type": "code",
      "metadata": {
        "id": "1YppAr1nZQYT"
      },
      "source": [
        "# Do not change anything in this cell.\n",
        "import numpy as np\n",
        "from collections import Counter\n",
        "from sklearn import datasets\n",
        "from sklearn.model_selection import train_test_split"
      ],
      "execution_count": null,
      "outputs": []
    },
    {
      "cell_type": "markdown",
      "metadata": {
        "id": "CiDnN8cApVoN"
      },
      "source": [
        "We are using the breast cancer dataset provided in scikit-learn. Here is a look at your dataset."
      ]
    },
    {
      "cell_type": "code",
      "metadata": {
        "id": "9LbsU8qEZoxI"
      },
      "source": [
        "# Do not change anything in this cell.\n",
        "data = datasets.load_breast_cancer()\n",
        "X = data.data\n",
        "y = data.target"
      ],
      "execution_count": null,
      "outputs": []
    },
    {
      "cell_type": "code",
      "metadata": {
        "colab": {
          "base_uri": "https://localhost:8080/"
        },
        "id": "_AS6zNCJcqCN",
        "outputId": "65d9f9a4-23a3-4165-8592-e8352d72ab53"
      },
      "source": [
        "# Do not change anything in this cell.\n",
        "data"
      ],
      "execution_count": null,
      "outputs": [
        {
          "output_type": "execute_result",
          "data": {
            "text/plain": [
              "{'DESCR': '.. _breast_cancer_dataset:\\n\\nBreast cancer wisconsin (diagnostic) dataset\\n--------------------------------------------\\n\\n**Data Set Characteristics:**\\n\\n    :Number of Instances: 569\\n\\n    :Number of Attributes: 30 numeric, predictive attributes and the class\\n\\n    :Attribute Information:\\n        - radius (mean of distances from center to points on the perimeter)\\n        - texture (standard deviation of gray-scale values)\\n        - perimeter\\n        - area\\n        - smoothness (local variation in radius lengths)\\n        - compactness (perimeter^2 / area - 1.0)\\n        - concavity (severity of concave portions of the contour)\\n        - concave points (number of concave portions of the contour)\\n        - symmetry \\n        - fractal dimension (\"coastline approximation\" - 1)\\n\\n        The mean, standard error, and \"worst\" or largest (mean of the three\\n        largest values) of these features were computed for each image,\\n        resulting in 30 features.  For instance, field 3 is Mean Radius, field\\n        13 is Radius SE, field 23 is Worst Radius.\\n\\n        - class:\\n                - WDBC-Malignant\\n                - WDBC-Benign\\n\\n    :Summary Statistics:\\n\\n    ===================================== ====== ======\\n                                           Min    Max\\n    ===================================== ====== ======\\n    radius (mean):                        6.981  28.11\\n    texture (mean):                       9.71   39.28\\n    perimeter (mean):                     43.79  188.5\\n    area (mean):                          143.5  2501.0\\n    smoothness (mean):                    0.053  0.163\\n    compactness (mean):                   0.019  0.345\\n    concavity (mean):                     0.0    0.427\\n    concave points (mean):                0.0    0.201\\n    symmetry (mean):                      0.106  0.304\\n    fractal dimension (mean):             0.05   0.097\\n    radius (standard error):              0.112  2.873\\n    texture (standard error):             0.36   4.885\\n    perimeter (standard error):           0.757  21.98\\n    area (standard error):                6.802  542.2\\n    smoothness (standard error):          0.002  0.031\\n    compactness (standard error):         0.002  0.135\\n    concavity (standard error):           0.0    0.396\\n    concave points (standard error):      0.0    0.053\\n    symmetry (standard error):            0.008  0.079\\n    fractal dimension (standard error):   0.001  0.03\\n    radius (worst):                       7.93   36.04\\n    texture (worst):                      12.02  49.54\\n    perimeter (worst):                    50.41  251.2\\n    area (worst):                         185.2  4254.0\\n    smoothness (worst):                   0.071  0.223\\n    compactness (worst):                  0.027  1.058\\n    concavity (worst):                    0.0    1.252\\n    concave points (worst):               0.0    0.291\\n    symmetry (worst):                     0.156  0.664\\n    fractal dimension (worst):            0.055  0.208\\n    ===================================== ====== ======\\n\\n    :Missing Attribute Values: None\\n\\n    :Class Distribution: 212 - Malignant, 357 - Benign\\n\\n    :Creator:  Dr. William H. Wolberg, W. Nick Street, Olvi L. Mangasarian\\n\\n    :Donor: Nick Street\\n\\n    :Date: November, 1995\\n\\nThis is a copy of UCI ML Breast Cancer Wisconsin (Diagnostic) datasets.\\nhttps://goo.gl/U2Uwz2\\n\\nFeatures are computed from a digitized image of a fine needle\\naspirate (FNA) of a breast mass.  They describe\\ncharacteristics of the cell nuclei present in the image.\\n\\nSeparating plane described above was obtained using\\nMultisurface Method-Tree (MSM-T) [K. P. Bennett, \"Decision Tree\\nConstruction Via Linear Programming.\" Proceedings of the 4th\\nMidwest Artificial Intelligence and Cognitive Science Society,\\npp. 97-101, 1992], a classification method which uses linear\\nprogramming to construct a decision tree.  Relevant features\\nwere selected using an exhaustive search in the space of 1-4\\nfeatures and 1-3 separating planes.\\n\\nThe actual linear program used to obtain the separating plane\\nin the 3-dimensional space is that described in:\\n[K. P. Bennett and O. L. Mangasarian: \"Robust Linear\\nProgramming Discrimination of Two Linearly Inseparable Sets\",\\nOptimization Methods and Software 1, 1992, 23-34].\\n\\nThis database is also available through the UW CS ftp server:\\n\\nftp ftp.cs.wisc.edu\\ncd math-prog/cpo-dataset/machine-learn/WDBC/\\n\\n.. topic:: References\\n\\n   - W.N. Street, W.H. Wolberg and O.L. Mangasarian. Nuclear feature extraction \\n     for breast tumor diagnosis. IS&T/SPIE 1993 International Symposium on \\n     Electronic Imaging: Science and Technology, volume 1905, pages 861-870,\\n     San Jose, CA, 1993.\\n   - O.L. Mangasarian, W.N. Street and W.H. Wolberg. Breast cancer diagnosis and \\n     prognosis via linear programming. Operations Research, 43(4), pages 570-577, \\n     July-August 1995.\\n   - W.H. Wolberg, W.N. Street, and O.L. Mangasarian. Machine learning techniques\\n     to diagnose breast cancer from fine-needle aspirates. Cancer Letters 77 (1994) \\n     163-171.',\n",
              " 'data': array([[1.799e+01, 1.038e+01, 1.228e+02, ..., 2.654e-01, 4.601e-01,\n",
              "         1.189e-01],\n",
              "        [2.057e+01, 1.777e+01, 1.329e+02, ..., 1.860e-01, 2.750e-01,\n",
              "         8.902e-02],\n",
              "        [1.969e+01, 2.125e+01, 1.300e+02, ..., 2.430e-01, 3.613e-01,\n",
              "         8.758e-02],\n",
              "        ...,\n",
              "        [1.660e+01, 2.808e+01, 1.083e+02, ..., 1.418e-01, 2.218e-01,\n",
              "         7.820e-02],\n",
              "        [2.060e+01, 2.933e+01, 1.401e+02, ..., 2.650e-01, 4.087e-01,\n",
              "         1.240e-01],\n",
              "        [7.760e+00, 2.454e+01, 4.792e+01, ..., 0.000e+00, 2.871e-01,\n",
              "         7.039e-02]]),\n",
              " 'feature_names': array(['mean radius', 'mean texture', 'mean perimeter', 'mean area',\n",
              "        'mean smoothness', 'mean compactness', 'mean concavity',\n",
              "        'mean concave points', 'mean symmetry', 'mean fractal dimension',\n",
              "        'radius error', 'texture error', 'perimeter error', 'area error',\n",
              "        'smoothness error', 'compactness error', 'concavity error',\n",
              "        'concave points error', 'symmetry error',\n",
              "        'fractal dimension error', 'worst radius', 'worst texture',\n",
              "        'worst perimeter', 'worst area', 'worst smoothness',\n",
              "        'worst compactness', 'worst concavity', 'worst concave points',\n",
              "        'worst symmetry', 'worst fractal dimension'], dtype='<U23'),\n",
              " 'filename': '/usr/local/lib/python3.7/dist-packages/sklearn/datasets/data/breast_cancer.csv',\n",
              " 'target': array([0, 0, 0, 0, 0, 0, 0, 0, 0, 0, 0, 0, 0, 0, 0, 0, 0, 0, 0, 1, 1, 1,\n",
              "        0, 0, 0, 0, 0, 0, 0, 0, 0, 0, 0, 0, 0, 0, 0, 1, 0, 0, 0, 0, 0, 0,\n",
              "        0, 0, 1, 0, 1, 1, 1, 1, 1, 0, 0, 1, 0, 0, 1, 1, 1, 1, 0, 1, 0, 0,\n",
              "        1, 1, 1, 1, 0, 1, 0, 0, 1, 0, 1, 0, 0, 1, 1, 1, 0, 0, 1, 0, 0, 0,\n",
              "        1, 1, 1, 0, 1, 1, 0, 0, 1, 1, 1, 0, 0, 1, 1, 1, 1, 0, 1, 1, 0, 1,\n",
              "        1, 1, 1, 1, 1, 1, 1, 0, 0, 0, 1, 0, 0, 1, 1, 1, 0, 0, 1, 0, 1, 0,\n",
              "        0, 1, 0, 0, 1, 1, 0, 1, 1, 0, 1, 1, 1, 1, 0, 1, 1, 1, 1, 1, 1, 1,\n",
              "        1, 1, 0, 1, 1, 1, 1, 0, 0, 1, 0, 1, 1, 0, 0, 1, 1, 0, 0, 1, 1, 1,\n",
              "        1, 0, 1, 1, 0, 0, 0, 1, 0, 1, 0, 1, 1, 1, 0, 1, 1, 0, 0, 1, 0, 0,\n",
              "        0, 0, 1, 0, 0, 0, 1, 0, 1, 0, 1, 1, 0, 1, 0, 0, 0, 0, 1, 1, 0, 0,\n",
              "        1, 1, 1, 0, 1, 1, 1, 1, 1, 0, 0, 1, 1, 0, 1, 1, 0, 0, 1, 0, 1, 1,\n",
              "        1, 1, 0, 1, 1, 1, 1, 1, 0, 1, 0, 0, 0, 0, 0, 0, 0, 0, 0, 0, 0, 0,\n",
              "        0, 0, 1, 1, 1, 1, 1, 1, 0, 1, 0, 1, 1, 0, 1, 1, 0, 1, 0, 0, 1, 1,\n",
              "        1, 1, 1, 1, 1, 1, 1, 1, 1, 1, 1, 0, 1, 1, 0, 1, 0, 1, 1, 1, 1, 1,\n",
              "        1, 1, 1, 1, 1, 1, 1, 1, 1, 0, 1, 1, 1, 0, 1, 0, 1, 1, 1, 1, 0, 0,\n",
              "        0, 1, 1, 1, 1, 0, 1, 0, 1, 0, 1, 1, 1, 0, 1, 1, 1, 1, 1, 1, 1, 0,\n",
              "        0, 0, 1, 1, 1, 1, 1, 1, 1, 1, 1, 1, 1, 0, 0, 1, 0, 0, 0, 1, 0, 0,\n",
              "        1, 1, 1, 1, 1, 0, 1, 1, 1, 1, 1, 0, 1, 1, 1, 0, 1, 1, 0, 0, 1, 1,\n",
              "        1, 1, 1, 1, 0, 1, 1, 1, 1, 1, 1, 1, 0, 1, 1, 1, 1, 1, 0, 1, 1, 0,\n",
              "        1, 1, 1, 1, 1, 1, 1, 1, 1, 1, 1, 1, 0, 1, 0, 0, 1, 0, 1, 1, 1, 1,\n",
              "        1, 0, 1, 1, 0, 1, 0, 1, 1, 0, 1, 0, 1, 1, 1, 1, 1, 1, 1, 1, 0, 0,\n",
              "        1, 1, 1, 1, 1, 1, 0, 1, 1, 1, 1, 1, 1, 1, 1, 1, 1, 0, 1, 1, 1, 1,\n",
              "        1, 1, 1, 0, 1, 0, 1, 1, 0, 1, 1, 1, 1, 1, 0, 0, 1, 0, 1, 0, 1, 1,\n",
              "        1, 1, 1, 0, 1, 1, 0, 1, 0, 1, 0, 0, 1, 1, 1, 0, 1, 1, 1, 1, 1, 1,\n",
              "        1, 1, 1, 1, 1, 0, 1, 0, 0, 1, 1, 1, 1, 1, 1, 1, 1, 1, 1, 1, 1, 1,\n",
              "        1, 1, 1, 1, 1, 1, 1, 1, 1, 1, 1, 1, 0, 0, 0, 0, 0, 0, 1]),\n",
              " 'target_names': array(['malignant', 'benign'], dtype='<U9')}"
            ]
          },
          "metadata": {
            "tags": []
          },
          "execution_count": 3
        }
      ]
    },
    {
      "cell_type": "code",
      "metadata": {
        "id": "kSzU9oQkdRDl"
      },
      "source": [
        "# Write a function to calculate the entropy. We will be using this to calculate\n",
        "## the information gain for decision tree.\n",
        "def entropy(y):\n",
        "    # Write your code here\n",
        "    class_labels = np.unique(y)\n",
        "    # Initialize the entropy\n",
        "    entropy = 0\n",
        "    # Calculate the entropy\n",
        "    for cls in class_labels:\n",
        "        p_cls = len(y[y == cls]) / len(y)\n",
        "        entropy += (-p_cls * np.log2(p_cls))\n",
        "\n",
        "    return entropy\n",
        "    return None"
      ],
      "execution_count": null,
      "outputs": []
    },
    {
      "cell_type": "code",
      "metadata": {
        "id": "cHXeCu_gdRKN"
      },
      "source": [
        "# Do not change anything in this cell.\n",
        "class Node:\n",
        "\n",
        "    def __init__(self, feature=None, threshold=None, left=None, right=None, *, value=None):\n",
        "        self.feature = feature\n",
        "        self.threshold = threshold\n",
        "        self.left = left\n",
        "        self.right = right\n",
        "        self.value = value\n",
        "\n",
        "    def is_leaf_node(self):\n",
        "        return self.value is not None"
      ],
      "execution_count": null,
      "outputs": []
    },
    {
      "cell_type": "code",
      "metadata": {
        "id": "MJv-OeZmdRZT"
      },
      "source": [
        "# Write code in this cell to build your Decision Trees used for Random Forest Classifier\n",
        "#This will be similar to assignment 1, but keep in mind that we will randomly pick \n",
        "#a subset of features for splitting, at then choose the best variable/split-point among those\n",
        "class DecisionTree:\n",
        "\n",
        "    def __init__(self, min_samples_split=2, max_depth=100, num_features=None):\n",
        "        # Initialize the min_split,max_depth, root and num_features are set to None\n",
        "        self.min_samples_split = min_samples_split\n",
        "        self.max_depth = max_depth\n",
        "        self.num_features = num_features\n",
        "        self.root = None\n",
        "\n",
        "    # Function to train the decision tree\n",
        "    def fit(self, X, y):\n",
        "        \n",
        "        \"\"\"\n",
        "        Function to train the tree.\n",
        "        X: Features\n",
        "        Y: Target\n",
        "        \"\"\"\n",
        "        self.num_features = X.shape[1] if not self.num_features else min(self.num_features, X.shape[1])\n",
        "        self.root = self.build_tree(X, y)\n",
        "\n",
        "    # Write a function to predict the results for a given dataset, using the tree you built \n",
        "    #and the tree traversal function\n",
        "    def predict(self, X):\n",
        "        \"\"\"\n",
        "        Prediction function to calculate the all the predictions of the matrix of features \n",
        "        provided using make_predictions function\n",
        "        X: Matrix of features\n",
        "        Returns predictions\n",
        "        \"\"\"\n",
        "        return self.tree_traversal(X, self.root)\n",
        "\n",
        "    # build the decision tree\n",
        "    def build_tree(self, X, y, depth=0):\n",
        "        \"\"\"\n",
        "        This will be a recursive function to build the decision tree.\n",
        "        X: The data that you will be using for your assignment\n",
        "        y: Target\n",
        "        depth: Current depth of the tree\n",
        "        Returns the leaf node\n",
        "        \"\"\"\n",
        "        n_samples, n_features = X.shape\n",
        "        n_labels = len(np.unique(y))\n",
        "\n",
        "        # stopping criteria should be when depth equals or exceeds max depth\n",
        "        # or there is only one label at the node\n",
        "        # or when n_samples gets smaller than min_samples_split\n",
        "        if (depth > self.max_depth or n_labels == 1 or n_samples <= self.min_samples_split):\n",
        "            leaf_value = self.max_frequency_label(y)\n",
        "            return Node(value=leaf_value)\n",
        "        # select the features **randomly**. Hint: you can use functions like np.random.choice\n",
        "        feature_idxs = np.random.choice(n_features, int(n_features / 10))\n",
        "\n",
        "        # find the best split according to information gain\n",
        "        best_feat, best_thresh = self.optimal_criterion(X, y, feature_idxs)\n",
        "      \n",
        "        # Take the result from the split and recuisively grow the tree\n",
        "        left_idxs, right_idxs = self._split(X[:, best_feat], best_thresh)\n",
        "        left = self.build_tree(X[left_idxs, :], y[left_idxs], depth + 1)\n",
        "        right = self.build_tree(X[right_idxs, :], y[right_idxs], depth + 1)\n",
        "        return Node(best_feat, best_thresh, left, right)\n",
        "\n",
        "    def optimal_criterion(self, X, y, feature_idxs):\n",
        "        \"\"\"\n",
        "        Find the optimal criterion for the split of the tree, using the selected features.\n",
        "        X: dataset\n",
        "        y: target\n",
        "        feature_idxs: randomly selected feature idxs\n",
        "        Return split index and threshold\n",
        "        \"\"\"\n",
        "        # initialize the best gain\n",
        "        best_gain = -1\n",
        "        for feature_index in feature_idxs:\n",
        "            # Find unique threshold values\n",
        "            possible_thresholds = np.unique(X[:, feature_index])\n",
        "            for threshold in possible_thresholds:\n",
        "                #dataset_left, dataset_right = self._split(X[:, feature_index], threshold)\n",
        "                curr_info_gain = self._information_gain(y, X[:, feature_index], threshold)\n",
        "                if curr_info_gain > best_gain:\n",
        "                    best_gain = curr_info_gain\n",
        "                    best_feature_index = feature_index\n",
        "                    best_thres = threshold\n",
        "\n",
        "        # Best feature among the features\n",
        "        split_idx = best_feature_index\n",
        "        # Best threshold for the best feature\n",
        "        split_thresh = best_thres\n",
        "        return split_idx, split_thresh\n",
        "\n",
        "    def _information_gain(self, y, X_column, split_thresh):\n",
        "        \"\"\"\n",
        "        Function to return the information gain\n",
        "        y: target\n",
        "        X: data\n",
        "        split_thresh: threshold for split\n",
        "        Return Information gain\n",
        "        \"\"\"\n",
        "        # parent loss\n",
        "        parent_entropy = entropy(y)\n",
        "\n",
        "        # generate split\n",
        "        left_idxs, right_idxs = self._split(X_column, split_thresh)\n",
        "\n",
        "        entropy_left = entropy(y[left_idxs]) * len(left_idxs) / len(y)\n",
        "        entropy_right = entropy(y[right_idxs]) * len(right_idxs) / len(y)\n",
        "        information_gain = parent_entropy - entropy_left - entropy_right\n",
        "        return information_gain\n",
        "\n",
        "    def _split(self, X_column, split_thresh):\n",
        "        \"\"\"\n",
        "          (Already implemented)\n",
        "          The split function \n",
        "          X_column: data\n",
        "          split_thresh: threshold value\n",
        "          Return left_idxs, right_idxs\n",
        "          \"\"\"\n",
        "        # Function to split the tree\n",
        "        left_idxs = np.argwhere(X_column <= split_thresh).flatten()\n",
        "        right_idxs = np.argwhere(X_column > split_thresh).flatten()\n",
        "        return left_idxs, right_idxs\n",
        "  \n",
        "    def tree_traversal(self, x, node):\n",
        "        \"\"\"\n",
        "          Tree traversal method which returns (one of) the leaf node value\n",
        "          x: data\n",
        "          node: node of the tree\n",
        "          \"\"\"\n",
        "        if node.is_leaf_node():\n",
        "            return node.value\n",
        "  \n",
        "        if x[node.feature] <= node.threshold:\n",
        "            return self.tree_traversal(x, node.left)\n",
        "        return self.tree_traversal(x, node.right)\n",
        "\n",
        "    def max_frequency_label(self, y):\n",
        "        \"\"\"\n",
        "          Determine the target label with maximum frequency. Hint: You can use collections.Counter()\n",
        "          y: target\n",
        "          \"\"\"\n",
        "        most_common = np.argmax(np.bincount(y))\n",
        "        return most_common\n"
      ],
      "execution_count": null,
      "outputs": []
    },
    {
      "cell_type": "code",
      "metadata": {
        "id": "aQEcjFnEcrE1"
      },
      "source": [
        "def bootstrap_sample(X, y):\n",
        "    # Function for bootstrap sampling. Hint: use np.random.choice for idxs\n",
        "    idxs = np.random.choice(range(X.shape[0]), X.shape[0])\n",
        "    X_sample, y_samples = X[idxs], y[idxs]\n",
        "    return X_sample, y_samples\n",
        "\n",
        "def most_common_label(y):\n",
        "    \"\"\"\n",
        "      Determine the target label with maximum frequency. Again, you can use collections.Counter()\n",
        "      y: target\n",
        "      \"\"\"\n",
        "    most_common = np.argmax(np.bincount(y))\n",
        "    return most_common"
      ],
      "execution_count": null,
      "outputs": []
    },
    {
      "cell_type": "code",
      "metadata": {
        "id": "6OZLlPjkc3xk"
      },
      "source": [
        "class RandomForest:\n",
        "    \n",
        "    def __init__(self, n_trees=10, min_samples_split=2,\n",
        "                 max_depth=100, num_features=None):\n",
        "        # Initialize the variabes\n",
        "        self.n_trees = n_trees\n",
        "        self.min_samples_split = min_samples_split\n",
        "        self.max_depth = max_depth\n",
        "        self.num_features = num_features\n",
        "        self.trees = []\n",
        "\n",
        "    def fit(self, X, y):\n",
        "        \"\"\"\n",
        "        Create n_tree decision trees using the training data\n",
        "        X: data\n",
        "        y: target\n",
        "        \"\"\"\n",
        "        for i in range(self.n_trees):\n",
        "            X_sample, y_samples = bootstrap_sample(X, y)\n",
        "            tree = DecisionTree(self.min_samples_split, self.max_depth, self.num_features)\n",
        "            tree.fit(X_sample, y_samples)\n",
        "            self.trees.append(tree)\n",
        "\n",
        "    def predict(self, X):\n",
        "        \"\"\"\n",
        "        Write a predict function to make predictions\n",
        "        X: data\n",
        "        Return predictions\n",
        "        \"\"\"\n",
        "        y_pred = []\n",
        "        for i in range(len(X)):\n",
        "            preds = []\n",
        "            for tree in self.trees:\n",
        "                preds.append(tree.predict(X[i]))\n",
        "            y_pred.append(most_common_label(preds))\n",
        "        return y_pred"
      ],
      "execution_count": null,
      "outputs": []
    },
    {
      "cell_type": "code",
      "metadata": {
        "id": "jKDTnnJPc4Ac"
      },
      "source": [
        "def accuracy(y_true, y_pred):\n",
        "    accuracy = np.sum(y_true == y_pred) / len(y_true)\n",
        "    return accuracy"
      ],
      "execution_count": null,
      "outputs": []
    },
    {
      "cell_type": "code",
      "metadata": {
        "colab": {
          "base_uri": "https://localhost:8080/"
        },
        "id": "t9IC3GYFc4J_",
        "outputId": "8feb6a1d-e5b5-4739-bd43-55f3cb7218a9"
      },
      "source": [
        "# Do not change anything in this cell\n",
        "import time\n",
        "\n",
        "X_train, X_test, y_train, y_test = train_test_split(X, y, test_size=0.2, random_state=1234)\n",
        "for n_trees in [1,3,5,10,20]:\n",
        "    clf = RandomForest(n_trees=n_trees, max_depth=10)\n",
        "    start = time.time()\n",
        "    clf.fit(X_train, y_train)\n",
        "    train_finish = time.time()\n",
        "    y_pred = clf.predict(X_test)\n",
        "    test_finish = time.time()\n",
        "    acc = accuracy(y_test, y_pred)\n",
        "    print (f\"Num of trees : {n_trees} Accuracy: {acc:.2f} Training took {train_finish-start:.2f}s Testing took {test_finish - train_finish:.2f}s\")"
      ],
      "execution_count": null,
      "outputs": [
        {
          "output_type": "stream",
          "text": [
            "Num of trees : 1 Accuracy: 0.90 Training took 0.30s Testing took 0.00s\n",
            "Num of trees : 3 Accuracy: 0.92 Training took 0.93s Testing took 0.00s\n",
            "Num of trees : 5 Accuracy: 0.89 Training took 1.52s Testing took 0.00s\n",
            "Num of trees : 10 Accuracy: 0.93 Training took 3.24s Testing took 0.00s\n",
            "Num of trees : 20 Accuracy: 0.95 Training took 6.16s Testing took 0.01s\n"
          ],
          "name": "stdout"
        }
      ]
    }
  ]
}